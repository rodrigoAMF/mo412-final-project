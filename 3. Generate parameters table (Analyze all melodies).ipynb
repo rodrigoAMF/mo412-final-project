{
 "cells": [
  {
   "cell_type": "code",
   "execution_count": 1,
   "metadata": {},
   "outputs": [],
   "source": [
    "import os\n",
    "\n",
    "import numpy as np\n",
    "import pandas as pd\n",
    "import matplotlib.pyplot as plt\n",
    "import networkx as nx\n",
    "\n",
    "from project import utils"
   ]
  },
  {
   "cell_type": "code",
   "execution_count": 2,
   "metadata": {},
   "outputs": [
    {
     "name": "stdout",
     "output_type": "stream",
     "text": [
      "Index\tMusic\n",
      "0\tbach BWM\n",
      "1\tbeethoven sonatas\n",
      "2\tmozart sonatas\n",
      "3\tnocturnes_chopin\n",
      "4\tsonatas_partitas_bach\n",
      "5\tsonatas_violin_bach\n"
     ]
    }
   ],
   "source": [
    "path_to_musics_folder= \"music\" + os.sep\n",
    "path_to_musics_available = utils.get_musics(path_to_musics_folder)"
   ]
  },
  {
   "cell_type": "code",
   "execution_count": 3,
   "metadata": {},
   "outputs": [
    {
     "name": "stdout",
     "output_type": "stream",
     "text": [
      "Running bach BWM...\n"
     ]
    },
    {
     "name": "stderr",
     "output_type": "stream",
     "text": [
      "Calculating best minimal value for power law fit\n",
      "Calculating best minimal value for power law fit\n"
     ]
    },
    {
     "name": "stdout",
     "output_type": "stream",
     "text": [
      "Running beethoven sonatas...\n"
     ]
    },
    {
     "name": "stderr",
     "output_type": "stream",
     "text": [
      "Calculating best minimal value for power law fit\n",
      "Calculating best minimal value for power law fit\n"
     ]
    },
    {
     "name": "stdout",
     "output_type": "stream",
     "text": [
      "Running mozart sonatas...\n"
     ]
    },
    {
     "name": "stderr",
     "output_type": "stream",
     "text": [
      "Calculating best minimal value for power law fit\n",
      "Calculating best minimal value for power law fit\n"
     ]
    },
    {
     "name": "stdout",
     "output_type": "stream",
     "text": [
      "Running nocturnes_chopin...\n"
     ]
    },
    {
     "name": "stderr",
     "output_type": "stream",
     "text": [
      "Calculating best minimal value for power law fit\n",
      "Calculating best minimal value for power law fit\n"
     ]
    },
    {
     "name": "stdout",
     "output_type": "stream",
     "text": [
      "Running sonatas_partitas_bach...\n"
     ]
    },
    {
     "name": "stderr",
     "output_type": "stream",
     "text": [
      "Calculating best minimal value for power law fit\n",
      "Calculating best minimal value for power law fit\n"
     ]
    },
    {
     "name": "stdout",
     "output_type": "stream",
     "text": [
      "Running sonatas_violin_bach...\n"
     ]
    },
    {
     "name": "stderr",
     "output_type": "stream",
     "text": [
      "Calculating best minimal value for power law fit\n",
      "Calculating best minimal value for power law fit\n"
     ]
    },
    {
     "name": "stdout",
     "output_type": "stream",
     "text": [
      "Wall time: 1min 34s\n"
     ]
    }
   ],
   "source": [
    "%%time\n",
    "\n",
    "values_networks = []\n",
    "for music_path in path_to_musics_available: \n",
    "    try:\n",
    "        network_name = music_path.split(\"\\\\\")[-1]\n",
    "    except:\n",
    "        network_name = music_path.split(\"/\")[-1]\n",
    "    print(\"Running {}...\".format(network_name))\n",
    "    \n",
    "    # Load network and calculate parameters\n",
    "    G, melody = utils.get_graph_and_melody_from_musics(music_path)\n",
    "    network_info = utils.get_network_info(G, melody)\n",
    "    \n",
    "    # Get parameters from network\n",
    "    lines = network_info.split(\"\\n\")\n",
    "    columns = [\"Network\"]\n",
    "    values = [network_name]\n",
    "    for line in lines:\n",
    "        name, value = line.split(\": \")\n",
    "        value = value.strip()\n",
    "        try:\n",
    "            name = name.split(\". \")[1]\n",
    "        except:\n",
    "            pass\n",
    "\n",
    "        columns.append(name)\n",
    "        values.append(value)\n",
    "        \n",
    "    values_networks.append(values)\n",
    "    \n",
    "    # Save gephi file \n",
    "    filename = os.path.basename(os.path.normpath(music_path)) + \".gexf\"\n",
    "    target_folder = \"gephi\"\n",
    "\n",
    "    if not os.path.exists(target_folder):\n",
    "        os.makedirs(target_folder)\n",
    "\n",
    "    nx.write_gexf(G, os.path.join(target_folder, filename))"
   ]
  },
  {
   "cell_type": "code",
   "execution_count": 4,
   "metadata": {},
   "outputs": [
    {
     "data": {
      "text/html": [
       "<div>\n",
       "<style scoped>\n",
       "    .dataframe tbody tr th:only-of-type {\n",
       "        vertical-align: middle;\n",
       "    }\n",
       "\n",
       "    .dataframe tbody tr th {\n",
       "        vertical-align: top;\n",
       "    }\n",
       "\n",
       "    .dataframe thead th {\n",
       "        text-align: right;\n",
       "    }\n",
       "</style>\n",
       "<table border=\"1\" class=\"dataframe\">\n",
       "  <thead>\n",
       "    <tr style=\"text-align: right;\">\n",
       "      <th></th>\n",
       "      <th>Network</th>\n",
       "      <th>Length of composition</th>\n",
       "      <th>Number of nodes</th>\n",
       "      <th>Number of edges</th>\n",
       "      <th>Average in degree</th>\n",
       "      <th>Average out degree</th>\n",
       "      <th>Average distance</th>\n",
       "      <th>Network diameter</th>\n",
       "      <th>Average cluster coefficient &lt;C&gt;</th>\n",
       "      <th>Centrality coefficient</th>\n",
       "      <th>Power-law exponent in-degree</th>\n",
       "      <th>Power-law exponent out-degree</th>\n",
       "      <th>Number of connected components</th>\n",
       "      <th>Assortativity coefficient</th>\n",
       "    </tr>\n",
       "  </thead>\n",
       "  <tbody>\n",
       "    <tr>\n",
       "      <th>0</th>\n",
       "      <td>bach BWM</td>\n",
       "      <td>5398</td>\n",
       "      <td>156</td>\n",
       "      <td>1086</td>\n",
       "      <td>6.9615</td>\n",
       "      <td>6.9615</td>\n",
       "      <td>3.1805</td>\n",
       "      <td>9.0000</td>\n",
       "      <td>0.2798</td>\n",
       "      <td>0.4645</td>\n",
       "      <td>2.3400</td>\n",
       "      <td>2.3559</td>\n",
       "      <td>1</td>\n",
       "      <td>0.0917</td>\n",
       "    </tr>\n",
       "    <tr>\n",
       "      <th>1</th>\n",
       "      <td>beethoven sonatas</td>\n",
       "      <td>128832</td>\n",
       "      <td>712</td>\n",
       "      <td>17769</td>\n",
       "      <td>24.9565</td>\n",
       "      <td>24.9565</td>\n",
       "      <td>2.8052</td>\n",
       "      <td>13.0000</td>\n",
       "      <td>0.3788</td>\n",
       "      <td>0.8692</td>\n",
       "      <td>2.2729</td>\n",
       "      <td>2.3960</td>\n",
       "      <td>1</td>\n",
       "      <td>-0.0646</td>\n",
       "    </tr>\n",
       "    <tr>\n",
       "      <th>2</th>\n",
       "      <td>mozart sonatas</td>\n",
       "      <td>55872</td>\n",
       "      <td>394</td>\n",
       "      <td>7118</td>\n",
       "      <td>18.0660</td>\n",
       "      <td>18.0660</td>\n",
       "      <td>3.0040</td>\n",
       "      <td>9.0000</td>\n",
       "      <td>0.3947</td>\n",
       "      <td>0.7786</td>\n",
       "      <td>2.6169</td>\n",
       "      <td>2.5469</td>\n",
       "      <td>1</td>\n",
       "      <td>-0.0207</td>\n",
       "    </tr>\n",
       "    <tr>\n",
       "      <th>3</th>\n",
       "      <td>nocturnes_chopin</td>\n",
       "      <td>17291</td>\n",
       "      <td>595</td>\n",
       "      <td>6733</td>\n",
       "      <td>11.3160</td>\n",
       "      <td>11.3160</td>\n",
       "      <td>3.3295</td>\n",
       "      <td>13.0000</td>\n",
       "      <td>0.2554</td>\n",
       "      <td>0.6768</td>\n",
       "      <td>2.1031</td>\n",
       "      <td>2.0798</td>\n",
       "      <td>1</td>\n",
       "      <td>-0.0737</td>\n",
       "    </tr>\n",
       "    <tr>\n",
       "      <th>4</th>\n",
       "      <td>sonatas_partitas_bach</td>\n",
       "      <td>39463</td>\n",
       "      <td>324</td>\n",
       "      <td>6785</td>\n",
       "      <td>20.9414</td>\n",
       "      <td>20.9414</td>\n",
       "      <td>2.6394</td>\n",
       "      <td>10.0000</td>\n",
       "      <td>0.4439</td>\n",
       "      <td>0.9443</td>\n",
       "      <td>2.7190</td>\n",
       "      <td>2.5573</td>\n",
       "      <td>1</td>\n",
       "      <td>-0.0415</td>\n",
       "    </tr>\n",
       "    <tr>\n",
       "      <th>5</th>\n",
       "      <td>sonatas_violin_bach</td>\n",
       "      <td>40024</td>\n",
       "      <td>325</td>\n",
       "      <td>6847</td>\n",
       "      <td>21.0677</td>\n",
       "      <td>21.0677</td>\n",
       "      <td>2.6419</td>\n",
       "      <td>10.0000</td>\n",
       "      <td>0.4435</td>\n",
       "      <td>0.9444</td>\n",
       "      <td>2.8870</td>\n",
       "      <td>2.5516</td>\n",
       "      <td>1</td>\n",
       "      <td>-0.0418</td>\n",
       "    </tr>\n",
       "  </tbody>\n",
       "</table>\n",
       "</div>"
      ],
      "text/plain": [
       "                 Network Length of composition Number of nodes  \\\n",
       "0               bach BWM                  5398             156   \n",
       "1      beethoven sonatas                128832             712   \n",
       "2         mozart sonatas                 55872             394   \n",
       "3       nocturnes_chopin                 17291             595   \n",
       "4  sonatas_partitas_bach                 39463             324   \n",
       "5    sonatas_violin_bach                 40024             325   \n",
       "\n",
       "  Number of edges Average in degree Average out degree Average distance  \\\n",
       "0            1086            6.9615             6.9615           3.1805   \n",
       "1           17769           24.9565            24.9565           2.8052   \n",
       "2            7118           18.0660            18.0660           3.0040   \n",
       "3            6733           11.3160            11.3160           3.3295   \n",
       "4            6785           20.9414            20.9414           2.6394   \n",
       "5            6847           21.0677            21.0677           2.6419   \n",
       "\n",
       "  Network diameter Average cluster coefficient <C> Centrality coefficient  \\\n",
       "0           9.0000                          0.2798                 0.4645   \n",
       "1          13.0000                          0.3788                 0.8692   \n",
       "2           9.0000                          0.3947                 0.7786   \n",
       "3          13.0000                          0.2554                 0.6768   \n",
       "4          10.0000                          0.4439                 0.9443   \n",
       "5          10.0000                          0.4435                 0.9444   \n",
       "\n",
       "  Power-law exponent in-degree Power-law exponent out-degree  \\\n",
       "0                       2.3400                        2.3559   \n",
       "1                       2.2729                        2.3960   \n",
       "2                       2.6169                        2.5469   \n",
       "3                       2.1031                        2.0798   \n",
       "4                       2.7190                        2.5573   \n",
       "5                       2.8870                        2.5516   \n",
       "\n",
       "  Number of connected components Assortativity coefficient  \n",
       "0                              1                    0.0917  \n",
       "1                              1                   -0.0646  \n",
       "2                              1                   -0.0207  \n",
       "3                              1                   -0.0737  \n",
       "4                              1                   -0.0415  \n",
       "5                              1                   -0.0418  "
      ]
     },
     "execution_count": 4,
     "metadata": {},
     "output_type": "execute_result"
    }
   ],
   "source": [
    "df = pd.DataFrame(data=values_networks, columns=columns)\n",
    "df.to_csv(\"parameters_table.csv\", index=False)\n",
    "df"
   ]
  }
 ],
 "metadata": {
  "kernelspec": {
   "display_name": "Python 3",
   "language": "python",
   "name": "python3"
  },
  "language_info": {
   "codemirror_mode": {
    "name": "ipython",
    "version": 3
   },
   "file_extension": ".py",
   "mimetype": "text/x-python",
   "name": "python",
   "nbconvert_exporter": "python",
   "pygments_lexer": "ipython3",
   "version": "3.8.5"
  }
 },
 "nbformat": 4,
 "nbformat_minor": 4
}
