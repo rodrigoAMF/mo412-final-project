{
 "cells": [
  {
   "cell_type": "code",
   "execution_count": 1,
   "metadata": {},
   "outputs": [],
   "source": [
    "import os\n",
    "\n",
    "import numpy as np\n",
    "import pandas as pd\n",
    "import matplotlib.pyplot as plt\n",
    "import networkx as nx\n",
    "\n",
    "from project import utils"
   ]
  },
  {
   "cell_type": "code",
   "execution_count": 2,
   "metadata": {},
   "outputs": [
    {
     "name": "stdout",
     "output_type": "stream",
     "text": [
      "Index\tMusic\n",
      "0\t1. Georg Friedrich Handel\n",
      "1\t1. Johann Sebastian Bach - BWM\n",
      "2\t1. Johann Sebastian Bach - Sonatas partitas\n",
      "3\t1. Johann Sebastian Bach - Sonatas violin\n",
      "4\t2. Wolfgang Amadeus Mozart - Sonatas\n",
      "5\t3. Frédéric Chopin - Nocturnes\n",
      "6\t3. Ludwig van Beethoven - Sonatas\n",
      "7\t4. gunsNroses\n"
     ]
    }
   ],
   "source": [
    "path_to_musics_folder= \"music\" + os.sep\n",
    "path_to_musics_available = utils.get_musics(path_to_musics_folder)"
   ]
  },
  {
   "cell_type": "code",
   "execution_count": 3,
   "metadata": {},
   "outputs": [
    {
     "name": "stdout",
     "output_type": "stream",
     "text": [
      "Running Georg Friedrich Handel...\n"
     ]
    },
    {
     "name": "stderr",
     "output_type": "stream",
     "text": [
      "Calculating best minimal value for power law fit\n",
      "Calculating best minimal value for power law fit\n"
     ]
    },
    {
     "name": "stdout",
     "output_type": "stream",
     "text": [
      "Running Johann Sebastian Bach - BWM...\n"
     ]
    },
    {
     "name": "stderr",
     "output_type": "stream",
     "text": [
      "Calculating best minimal value for power law fit\n",
      "Calculating best minimal value for power law fit\n"
     ]
    },
    {
     "name": "stdout",
     "output_type": "stream",
     "text": [
      "Running Johann Sebastian Bach - Sonatas partitas...\n"
     ]
    },
    {
     "name": "stderr",
     "output_type": "stream",
     "text": [
      "Calculating best minimal value for power law fit\n",
      "Calculating best minimal value for power law fit\n"
     ]
    },
    {
     "name": "stdout",
     "output_type": "stream",
     "text": [
      "Running Johann Sebastian Bach - Sonatas violin...\n"
     ]
    },
    {
     "name": "stderr",
     "output_type": "stream",
     "text": [
      "Calculating best minimal value for power law fit\n",
      "Calculating best minimal value for power law fit\n"
     ]
    },
    {
     "name": "stdout",
     "output_type": "stream",
     "text": [
      "Running Wolfgang Amadeus Mozart - Sonatas...\n"
     ]
    },
    {
     "name": "stderr",
     "output_type": "stream",
     "text": [
      "Calculating best minimal value for power law fit\n",
      "Calculating best minimal value for power law fit\n"
     ]
    },
    {
     "name": "stdout",
     "output_type": "stream",
     "text": [
      "Running Frédéric Chopin - Nocturnes...\n"
     ]
    },
    {
     "name": "stderr",
     "output_type": "stream",
     "text": [
      "Calculating best minimal value for power law fit\n",
      "Calculating best minimal value for power law fit\n"
     ]
    },
    {
     "name": "stdout",
     "output_type": "stream",
     "text": [
      "Running Ludwig van Beethoven - Sonatas...\n"
     ]
    },
    {
     "name": "stderr",
     "output_type": "stream",
     "text": [
      "Calculating best minimal value for power law fit\n",
      "Calculating best minimal value for power law fit\n"
     ]
    },
    {
     "name": "stdout",
     "output_type": "stream",
     "text": [
      "Running gunsNroses...\n",
      "Wall time: 8min 4s\n"
     ]
    },
    {
     "name": "stderr",
     "output_type": "stream",
     "text": [
      "Calculating best minimal value for power law fit\n",
      "Calculating best minimal value for power law fit\n"
     ]
    }
   ],
   "source": [
    "%%time\n",
    "\n",
    "values_networks = []\n",
    "for music_path in path_to_musics_available: \n",
    "    try:\n",
    "        network_name = music_path.split(\"\\\\\")[-1]\n",
    "    except:\n",
    "        network_name = music_path.split(\"/\")[-1]\n",
    "    network_name = network_name.split(\". \")[-1]\n",
    "    print(\"Running {}...\".format(network_name))\n",
    "    \n",
    "    # Load network and calculate parameters\n",
    "    G, melody = utils.get_graph_and_melody_from_musics(music_path)\n",
    "    network_info = utils.get_network_info(G, melody)\n",
    "    \n",
    "    # Get parameters from network\n",
    "    lines = network_info.split(\"\\n\")\n",
    "    columns = [\"Network\"]\n",
    "    values = [network_name]\n",
    "    for line in lines:\n",
    "        name, value = line.split(\": \")\n",
    "        value = value.strip()\n",
    "        try:\n",
    "            name = name.split(\". \")[1]\n",
    "        except:\n",
    "            pass\n",
    "        \n",
    "\n",
    "        columns.append(name)\n",
    "        values.append(value)\n",
    "        \n",
    "    values_networks.append(values)\n",
    "    \n",
    "    # Save gephi file \n",
    "    filename = os.path.basename(os.path.normpath(music_path)) + \".gexf\"\n",
    "    target_folder = \"gephi\"\n",
    "\n",
    "    if not os.path.exists(target_folder):\n",
    "        os.makedirs(target_folder)\n",
    "\n",
    "    nx.write_gexf(G, os.path.join(target_folder, filename))"
   ]
  },
  {
   "cell_type": "code",
   "execution_count": 4,
   "metadata": {},
   "outputs": [
    {
     "data": {
      "text/html": [
       "<div>\n",
       "<style scoped>\n",
       "    .dataframe tbody tr th:only-of-type {\n",
       "        vertical-align: middle;\n",
       "    }\n",
       "\n",
       "    .dataframe tbody tr th {\n",
       "        vertical-align: top;\n",
       "    }\n",
       "\n",
       "    .dataframe thead th {\n",
       "        text-align: right;\n",
       "    }\n",
       "</style>\n",
       "<table border=\"1\" class=\"dataframe\">\n",
       "  <thead>\n",
       "    <tr style=\"text-align: right;\">\n",
       "      <th></th>\n",
       "      <th>Network</th>\n",
       "      <th>Length of composition</th>\n",
       "      <th>Number of nodes</th>\n",
       "      <th>Number of edges</th>\n",
       "      <th>Average in degree</th>\n",
       "      <th>Average out degree</th>\n",
       "      <th>Average distance</th>\n",
       "      <th>Network diameter</th>\n",
       "      <th>Average cluster coefficient &lt;C&gt;</th>\n",
       "      <th>Centrality coefficient</th>\n",
       "      <th>Power-law exponent in-degree</th>\n",
       "      <th>Power-law exponent out-degree</th>\n",
       "      <th>Number of connected components</th>\n",
       "      <th>Assortativity coefficient</th>\n",
       "    </tr>\n",
       "  </thead>\n",
       "  <tbody>\n",
       "    <tr>\n",
       "      <th>0</th>\n",
       "      <td>Georg Friedrich Handel</td>\n",
       "      <td>11512</td>\n",
       "      <td>311</td>\n",
       "      <td>2779</td>\n",
       "      <td>8.9357</td>\n",
       "      <td>8.9357</td>\n",
       "      <td>3.1651</td>\n",
       "      <td>8.0000</td>\n",
       "      <td>0.2977</td>\n",
       "      <td>0.5839</td>\n",
       "      <td>2.2894</td>\n",
       "      <td>2.1061</td>\n",
       "      <td>1</td>\n",
       "      <td>-0.0202</td>\n",
       "    </tr>\n",
       "    <tr>\n",
       "      <th>1</th>\n",
       "      <td>Johann Sebastian Bach - BWM</td>\n",
       "      <td>5398</td>\n",
       "      <td>156</td>\n",
       "      <td>1086</td>\n",
       "      <td>6.9615</td>\n",
       "      <td>6.9615</td>\n",
       "      <td>3.1805</td>\n",
       "      <td>9.0000</td>\n",
       "      <td>0.2798</td>\n",
       "      <td>0.4645</td>\n",
       "      <td>2.3400</td>\n",
       "      <td>2.3559</td>\n",
       "      <td>1</td>\n",
       "      <td>0.0917</td>\n",
       "    </tr>\n",
       "    <tr>\n",
       "      <th>2</th>\n",
       "      <td>Johann Sebastian Bach - Sonatas partitas</td>\n",
       "      <td>39463</td>\n",
       "      <td>324</td>\n",
       "      <td>6785</td>\n",
       "      <td>20.9414</td>\n",
       "      <td>20.9414</td>\n",
       "      <td>2.6394</td>\n",
       "      <td>10.0000</td>\n",
       "      <td>0.4439</td>\n",
       "      <td>0.9443</td>\n",
       "      <td>2.7190</td>\n",
       "      <td>2.5573</td>\n",
       "      <td>1</td>\n",
       "      <td>-0.0415</td>\n",
       "    </tr>\n",
       "    <tr>\n",
       "      <th>3</th>\n",
       "      <td>Johann Sebastian Bach - Sonatas violin</td>\n",
       "      <td>40024</td>\n",
       "      <td>325</td>\n",
       "      <td>6847</td>\n",
       "      <td>21.0677</td>\n",
       "      <td>21.0677</td>\n",
       "      <td>2.6419</td>\n",
       "      <td>10.0000</td>\n",
       "      <td>0.4435</td>\n",
       "      <td>0.9444</td>\n",
       "      <td>2.8870</td>\n",
       "      <td>2.5516</td>\n",
       "      <td>1</td>\n",
       "      <td>-0.0418</td>\n",
       "    </tr>\n",
       "    <tr>\n",
       "      <th>4</th>\n",
       "      <td>Wolfgang Amadeus Mozart - Sonatas</td>\n",
       "      <td>55872</td>\n",
       "      <td>394</td>\n",
       "      <td>7118</td>\n",
       "      <td>18.0660</td>\n",
       "      <td>18.0660</td>\n",
       "      <td>3.0040</td>\n",
       "      <td>9.0000</td>\n",
       "      <td>0.3947</td>\n",
       "      <td>0.7786</td>\n",
       "      <td>2.6169</td>\n",
       "      <td>2.5469</td>\n",
       "      <td>1</td>\n",
       "      <td>-0.0207</td>\n",
       "    </tr>\n",
       "    <tr>\n",
       "      <th>5</th>\n",
       "      <td>Frédéric Chopin - Nocturnes</td>\n",
       "      <td>17291</td>\n",
       "      <td>595</td>\n",
       "      <td>6733</td>\n",
       "      <td>11.3160</td>\n",
       "      <td>11.3160</td>\n",
       "      <td>3.3295</td>\n",
       "      <td>13.0000</td>\n",
       "      <td>0.2554</td>\n",
       "      <td>0.6768</td>\n",
       "      <td>2.1031</td>\n",
       "      <td>2.0798</td>\n",
       "      <td>1</td>\n",
       "      <td>-0.0737</td>\n",
       "    </tr>\n",
       "    <tr>\n",
       "      <th>6</th>\n",
       "      <td>Ludwig van Beethoven - Sonatas</td>\n",
       "      <td>128832</td>\n",
       "      <td>712</td>\n",
       "      <td>17769</td>\n",
       "      <td>24.9565</td>\n",
       "      <td>24.9565</td>\n",
       "      <td>2.8052</td>\n",
       "      <td>13.0000</td>\n",
       "      <td>0.3788</td>\n",
       "      <td>0.8692</td>\n",
       "      <td>2.2729</td>\n",
       "      <td>2.3960</td>\n",
       "      <td>1</td>\n",
       "      <td>-0.0646</td>\n",
       "    </tr>\n",
       "    <tr>\n",
       "      <th>7</th>\n",
       "      <td>gunsNroses</td>\n",
       "      <td>4540</td>\n",
       "      <td>235</td>\n",
       "      <td>1370</td>\n",
       "      <td>5.8298</td>\n",
       "      <td>5.8298</td>\n",
       "      <td>3.7948</td>\n",
       "      <td>17.0000</td>\n",
       "      <td>0.2203</td>\n",
       "      <td>0.4274</td>\n",
       "      <td>2.2256</td>\n",
       "      <td>2.3002</td>\n",
       "      <td>1</td>\n",
       "      <td>-0.0104</td>\n",
       "    </tr>\n",
       "  </tbody>\n",
       "</table>\n",
       "</div>"
      ],
      "text/plain": [
       "                                    Network Length of composition  \\\n",
       "0                    Georg Friedrich Handel                 11512   \n",
       "1               Johann Sebastian Bach - BWM                  5398   \n",
       "2  Johann Sebastian Bach - Sonatas partitas                 39463   \n",
       "3    Johann Sebastian Bach - Sonatas violin                 40024   \n",
       "4         Wolfgang Amadeus Mozart - Sonatas                 55872   \n",
       "5               Frédéric Chopin - Nocturnes                 17291   \n",
       "6            Ludwig van Beethoven - Sonatas                128832   \n",
       "7                                gunsNroses                  4540   \n",
       "\n",
       "  Number of nodes Number of edges Average in degree Average out degree  \\\n",
       "0             311            2779            8.9357             8.9357   \n",
       "1             156            1086            6.9615             6.9615   \n",
       "2             324            6785           20.9414            20.9414   \n",
       "3             325            6847           21.0677            21.0677   \n",
       "4             394            7118           18.0660            18.0660   \n",
       "5             595            6733           11.3160            11.3160   \n",
       "6             712           17769           24.9565            24.9565   \n",
       "7             235            1370            5.8298             5.8298   \n",
       "\n",
       "  Average distance Network diameter Average cluster coefficient <C>  \\\n",
       "0           3.1651           8.0000                          0.2977   \n",
       "1           3.1805           9.0000                          0.2798   \n",
       "2           2.6394          10.0000                          0.4439   \n",
       "3           2.6419          10.0000                          0.4435   \n",
       "4           3.0040           9.0000                          0.3947   \n",
       "5           3.3295          13.0000                          0.2554   \n",
       "6           2.8052          13.0000                          0.3788   \n",
       "7           3.7948          17.0000                          0.2203   \n",
       "\n",
       "  Centrality coefficient Power-law exponent in-degree  \\\n",
       "0                 0.5839                       2.2894   \n",
       "1                 0.4645                       2.3400   \n",
       "2                 0.9443                       2.7190   \n",
       "3                 0.9444                       2.8870   \n",
       "4                 0.7786                       2.6169   \n",
       "5                 0.6768                       2.1031   \n",
       "6                 0.8692                       2.2729   \n",
       "7                 0.4274                       2.2256   \n",
       "\n",
       "  Power-law exponent out-degree Number of connected components  \\\n",
       "0                        2.1061                              1   \n",
       "1                        2.3559                              1   \n",
       "2                        2.5573                              1   \n",
       "3                        2.5516                              1   \n",
       "4                        2.5469                              1   \n",
       "5                        2.0798                              1   \n",
       "6                        2.3960                              1   \n",
       "7                        2.3002                              1   \n",
       "\n",
       "  Assortativity coefficient  \n",
       "0                   -0.0202  \n",
       "1                    0.0917  \n",
       "2                   -0.0415  \n",
       "3                   -0.0418  \n",
       "4                   -0.0207  \n",
       "5                   -0.0737  \n",
       "6                   -0.0646  \n",
       "7                   -0.0104  "
      ]
     },
     "execution_count": 4,
     "metadata": {},
     "output_type": "execute_result"
    }
   ],
   "source": [
    "df = pd.DataFrame(data=values_networks, columns=columns)\n",
    "df.to_csv(\"parameters_table.csv\", index=False)\n",
    "df"
   ]
  }
 ],
 "metadata": {
  "kernelspec": {
   "display_name": "Python 3",
   "language": "python",
   "name": "python3"
  },
  "language_info": {
   "codemirror_mode": {
    "name": "ipython",
    "version": 3
   },
   "file_extension": ".py",
   "mimetype": "text/x-python",
   "name": "python",
   "nbconvert_exporter": "python",
   "pygments_lexer": "ipython3",
   "version": "3.8.5"
  }
 },
 "nbformat": 4,
 "nbformat_minor": 4
}
