{
 "cells": [
  {
   "cell_type": "code",
   "execution_count": 1,
   "metadata": {},
   "outputs": [],
   "source": [
    "import os\n",
    "\n",
    "import numpy as np\n",
    "import pandas as pd\n",
    "import matplotlib.pyplot as plt\n",
    "import networkx as nx\n",
    "\n",
    "from project import utils"
   ]
  },
  {
   "cell_type": "code",
   "execution_count": 2,
   "metadata": {},
   "outputs": [
    {
     "name": "stdout",
     "output_type": "stream",
     "text": [
      "Index\tMusic\n",
      "0\tbach BWM\n",
      "1\tbeethoven sonatas\n",
      "2\tmozart sonatas\n",
      "3\tnocturnes_chopin\n",
      "4\tsonatas_partitas_bach\n",
      "5\tsonatas_violin_bach\n"
     ]
    }
   ],
   "source": [
    "path_to_musics_folder= \"music\" + os.sep\n",
    "path_to_musics_available = utils.get_musics(path_to_musics_folder)"
   ]
  },
  {
   "cell_type": "code",
   "execution_count": null,
   "metadata": {},
   "outputs": [
    {
     "name": "stdout",
     "output_type": "stream",
     "text": [
      "Running bach BWM...\n"
     ]
    },
    {
     "name": "stderr",
     "output_type": "stream",
     "text": [
      "Values less than or equal to 0 in data. Throwing out 0 or negative values\n",
      "Calculating best minimal value for power law fit\n",
      "Values less than or equal to 0 in data. Throwing out 0 or negative values\n",
      "Calculating best minimal value for power law fit\n"
     ]
    },
    {
     "name": "stdout",
     "output_type": "stream",
     "text": [
      "Running beethoven sonatas...\n"
     ]
    },
    {
     "name": "stderr",
     "output_type": "stream",
     "text": [
      "Values less than or equal to 0 in data. Throwing out 0 or negative values\n",
      "Calculating best minimal value for power law fit\n",
      "Values less than or equal to 0 in data. Throwing out 0 or negative values\n",
      "Calculating best minimal value for power law fit\n"
     ]
    },
    {
     "name": "stdout",
     "output_type": "stream",
     "text": [
      "Running mozart sonatas...\n"
     ]
    }
   ],
   "source": [
    "%%time\n",
    "\n",
    "values_networks = []\n",
    "for music_path in path_to_musics_available: \n",
    "    try:\n",
    "        network_name = music_path.split(\"\\\\\")[-1]\n",
    "    except:\n",
    "        network_name = music_path.split(\"/\")[-1]\n",
    "    print(\"Running {}...\".format(network_name))\n",
    "    \n",
    "    # Load network and calculate parameters\n",
    "    G, melody = utils.get_graph_and_melody_from_musics(music_path)\n",
    "    network_info = utils.get_network_info(G, melody)\n",
    "    \n",
    "    # Get parameters from network\n",
    "    lines = network_info.split(\"\\n\")\n",
    "    columns = [\"Network\"]\n",
    "    values = [network_name]\n",
    "    for line in lines:\n",
    "        name, value = line.split(\": \")\n",
    "        value = value.strip()\n",
    "        try:\n",
    "            name = name.split(\". \")[1]\n",
    "        except:\n",
    "            pass\n",
    "\n",
    "        columns.append(name)\n",
    "        values.append(value)\n",
    "        \n",
    "    values_networks.append(values)\n",
    "    \n",
    "    # Save gephi file \n",
    "    filename = os.path.basename(os.path.normpath(music_path)) + \".gexf\"\n",
    "    target_folder = \"gephi\"\n",
    "\n",
    "    if not os.path.exists(target_folder):\n",
    "        os.makedirs(target_folder)\n",
    "\n",
    "    nx.write_gexf(G, os.path.join(target_folder, filename))"
   ]
  },
  {
   "cell_type": "code",
   "execution_count": null,
   "metadata": {},
   "outputs": [],
   "source": [
    "df = pd.DataFrame(data=values_networks, columns=columns)\n",
    "df.to_csv(\"parameters_table.csv\", index=False)\n",
    "df"
   ]
  }
 ],
 "metadata": {
  "kernelspec": {
   "display_name": "Python 3",
   "language": "python",
   "name": "python3"
  },
  "language_info": {
   "codemirror_mode": {
    "name": "ipython",
    "version": 3
   },
   "file_extension": ".py",
   "mimetype": "text/x-python",
   "name": "python",
   "nbconvert_exporter": "python",
   "pygments_lexer": "ipython3",
   "version": "3.8.5"
  }
 },
 "nbformat": 4,
 "nbformat_minor": 4
}
