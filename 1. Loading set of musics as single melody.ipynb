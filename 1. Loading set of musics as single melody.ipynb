{
 "cells": [
  {
   "cell_type": "code",
   "execution_count": 1,
   "metadata": {},
   "outputs": [],
   "source": [
    "import os\n",
    "\n",
    "import numpy as np\n",
    "import matplotlib.pyplot as plt\n",
    "import networkx as nx\n",
    "\n",
    "from project import utils"
   ]
  },
  {
   "cell_type": "code",
   "execution_count": 2,
   "metadata": {},
   "outputs": [
    {
     "name": "stdout",
     "output_type": "stream",
     "text": [
      "Index\tMusic\n",
      "0\tbach BWM\n",
      "1\tbeethoven sonatas\n",
      "2\tmozart sonatas\n",
      "3\tnocturnes_chopin\n",
      "4\tsonatas_partitas_bach\n",
      "5\tsonatas_violin_bach\n"
     ]
    }
   ],
   "source": [
    "path_to_musics_folder= \"music\" + os.sep\n",
    "path_to_musics_available = utils.get_musics(path_to_musics_folder)"
   ]
  },
  {
   "cell_type": "code",
   "execution_count": 3,
   "metadata": {},
   "outputs": [],
   "source": [
    "index = 0\n",
    "music_path = path_to_musics_available[index]"
   ]
  },
  {
   "cell_type": "code",
   "execution_count": 4,
   "metadata": {},
   "outputs": [
    {
     "name": "stdout",
     "output_type": "stream",
     "text": [
      "Wall time: 771 ms\n"
     ]
    }
   ],
   "source": [
    "%%time\n",
    "\n",
    "G, melody = utils.get_graph_and_melody_from_musics(music_path)"
   ]
  },
  {
   "cell_type": "code",
   "execution_count": 5,
   "metadata": {},
   "outputs": [
    {
     "name": "stdout",
     "output_type": "stream",
     "text": [
      "1. Length of composition: 5398\n",
      "2. Number of nodes: 156\n",
      "3. Number of edges: 1086\n",
      "4. Average in degree:   6.9615\n",
      "4. Average out degree:   6.9615\n",
      "5. Average distance: 3.1805\n",
      "6. Network diameter: 9.0000\n",
      "7. Average cluster coefficient <C>: 0.2798\n",
      "8. Centrality coefficient: 0.4645\n",
      "9. Power-law exponent in-degree: 1.8856\n",
      "9. Power-law exponent out-degree: 3.4051\n",
      "Number of connected components: 1\n",
      "Assortativity coefficient: 0.0917\n",
      "\n"
     ]
    },
    {
     "name": "stderr",
     "output_type": "stream",
     "text": [
      "Calculating best minimal value for power law fit\n",
      "Calculating best minimal value for power law fit\n"
     ]
    }
   ],
   "source": [
    "network_info = utils.get_network_info(G, melody)\n",
    "print(network_info)"
   ]
  }
 ],
 "metadata": {
  "kernelspec": {
   "display_name": "Python 3",
   "language": "python",
   "name": "python3"
  },
  "language_info": {
   "codemirror_mode": {
    "name": "ipython",
    "version": 3
   },
   "file_extension": ".py",
   "mimetype": "text/x-python",
   "name": "python",
   "nbconvert_exporter": "python",
   "pygments_lexer": "ipython3",
   "version": "3.8.5"
  }
 },
 "nbformat": 4,
 "nbformat_minor": 4
}
