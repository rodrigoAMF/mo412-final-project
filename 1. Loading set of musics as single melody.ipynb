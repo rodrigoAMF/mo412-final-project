{
 "cells": [
  {
   "cell_type": "code",
   "execution_count": 1,
   "metadata": {},
   "outputs": [],
   "source": [
    "import os\n",
    "\n",
    "import numpy as np\n",
    "import matplotlib.pyplot as plt\n",
    "import networkx as nx\n",
    "\n",
    "from project import utils"
   ]
  },
  {
   "cell_type": "code",
   "execution_count": 2,
   "metadata": {},
   "outputs": [
    {
     "name": "stdout",
     "output_type": "stream",
     "text": [
      "Index\tMusic\n",
      "0\tnocturnes_chopin\n",
      "1\tsonatas_partitas_bach\n",
      "2\tsonatas_violin_bach\n"
     ]
    }
   ],
   "source": [
    "path_to_musics_folder= \"music\" + os.sep\n",
    "path_to_musics_available = utils.get_musics(path_to_musics_folder)\n",
    "\n",
    "music_path = path_to_musics_available[0]"
   ]
  },
  {
   "cell_type": "code",
   "execution_count": 3,
   "metadata": {},
   "outputs": [
    {
     "name": "stdout",
     "output_type": "stream",
     "text": [
      "Wall time: 7.57 s\n"
     ]
    }
   ],
   "source": [
    "%%time\n",
    "\n",
    "G, melody = utils.get_graph_and_melody_from_musics(music_path)"
   ]
  },
  {
   "cell_type": "code",
   "execution_count": 4,
   "metadata": {},
   "outputs": [
    {
     "name": "stdout",
     "output_type": "stream",
     "text": [
      "Number of nodes: 595\n",
      "Number of edges: 6733\n",
      "Average in degree:  11.3160\n",
      "Average out degree:  11.3160\n",
      "Number of connected components: 1\n",
      "Average distance: 3.329533\n",
      "Average cluster coefficient <C>: 0.2554\n",
      "Assortativity coefficient: -0.07374169020625675\n"
     ]
    }
   ],
   "source": [
    "utils.show_network_info(G)"
   ]
  }
 ],
 "metadata": {
  "kernelspec": {
   "display_name": "Python 3",
   "language": "python",
   "name": "python3"
  },
  "language_info": {
   "codemirror_mode": {
    "name": "ipython",
    "version": 3
   },
   "file_extension": ".py",
   "mimetype": "text/x-python",
   "name": "python",
   "nbconvert_exporter": "python",
   "pygments_lexer": "ipython3",
   "version": "3.8.5"
  }
 },
 "nbformat": 4,
 "nbformat_minor": 4
}
