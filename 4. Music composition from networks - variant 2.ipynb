{
 "cells": [
  {
   "cell_type": "code",
   "execution_count": 4,
   "metadata": {
    "id": "_efA8X3D5Sf7"
   },
   "outputs": [
    {
     "name": "stdout",
     "output_type": "stream",
     "text": [
      "None\n"
     ]
    }
   ],
   "source": [
    "from project.utils import *\n",
    "import random\n",
    "\n",
    "# Helper functions\n",
    "\n",
    "def add_color_to_nodes(g):\n",
    "    for node in g.nodes():\n",
    "        print(node)\n",
    "        g[node][0]['viz'] = {'color': {'r': 0, 'g': 255, 'b': 0, 'a': 0}}\n",
    "    return g\n",
    "\n",
    "def get_max_weight_neighbor(G, node):\n",
    "    neighbors = list(G.neighbors(node))\n",
    "    max = neighbors[0]\n",
    "    for neighbor in neighbors:\n",
    "        if G[node][neighbor]['weight'] > G[node][max]['weight']:\n",
    "            max = neighbor\n",
    "    return max\n",
    "\n",
    "def generate_melody(G, max_length=1000):\n",
    "    starting_node = list(G.nodes)[random.randint(0, G.number_of_nodes())]\n",
    "    melody = [starting_node]\n",
    "    for node in list(G.nodes):\n",
    "        next_node = get_max_weight_neighbor(G, node)\n",
    "        melody.append(next_node)\n",
    "    return melody\n",
    "\n",
    "def compose_music(G, max_length, result_path):\n",
    "    melody = generate_melody(G, max_length=max_length)\n",
    "    stream_composed  = stream.Stream()\n",
    "    for note_name in melody:\n",
    "        if note_name.split(' ')[-1] == 'Rest':\n",
    "            try:\n",
    "                note_composed = note.Rest(type=note_name.strip(\" Rest\").lower())\n",
    "            except duration.DurationException:\n",
    "                note_composed = note.Rest(type=note_name.strip(\"Dotted\").split()[0].lower())\n",
    "                pass\n",
    "        else: \n",
    "            note_composed = note.Note(note_name.split()[0], type=note_name.split()[1])\n",
    "        \n",
    "        stream_composed.append(note_composed)\n",
    "    \n",
    "    stream_composed.write(fp=result_path+'music_composed.xml')\n",
    "\n",
    "\n",
    "file_name_exported = 'music_composed.gexf'\n",
    "\n",
    "musics_path = get_musics(verbose=False)\n",
    "\n",
    "G, melody = get_graph_and_melody_from_musics(musics_path[0])\n",
    "\n",
    "composition = compose_music(G, 50, 'results/')\n",
    "print(composition)\n"
   ]
  },
  {
   "cell_type": "code",
   "execution_count": null,
   "metadata": {},
   "outputs": [],
   "source": []
  }
 ],
 "metadata": {
  "colab": {
   "collapsed_sections": [],
   "name": "4. Music composition from networks - variant 2.ipynb",
   "provenance": []
  },
  "kernelspec": {
   "display_name": "Python 3",
   "language": "python",
   "name": "python3"
  },
  "language_info": {
   "codemirror_mode": {
    "name": "ipython",
    "version": 3
   },
   "file_extension": ".py",
   "mimetype": "text/x-python",
   "name": "python",
   "nbconvert_exporter": "python",
   "pygments_lexer": "ipython3",
   "version": "3.8.5"
  }
 },
 "nbformat": 4,
 "nbformat_minor": 4
}
